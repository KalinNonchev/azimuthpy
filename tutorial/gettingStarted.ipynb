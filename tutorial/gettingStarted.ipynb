{
 "cells": [
  {
   "cell_type": "markdown",
   "id": "ce3bf3f0-f281-43e4-8a62-b8c6a042ab69",
   "metadata": {},
   "source": [
    "# Azimuth wrapper example using Scanpy PBMC 3k dataset"
   ]
  },
  {
   "cell_type": "code",
   "execution_count": null,
   "id": "0cd41d4c-f3a7-4f14-aea3-32081bc4e562",
   "metadata": {},
   "outputs": [],
   "source": [
    "import os\n",
    "os.chdir(\"../\")"
   ]
  },
  {
   "cell_type": "code",
   "execution_count": null,
   "id": "1be309e8-923a-4887-8f14-ef1bb1380cb1",
   "metadata": {},
   "outputs": [],
   "source": [
    "import scanpy as sc\n",
    "import anndata as ad\n",
    "import numpy as np\n",
    "import pandas as pd"
   ]
  },
  {
   "cell_type": "code",
   "execution_count": null,
   "id": "e9fc1cef-9ed3-47d4-9a49-879dc3afdc87",
   "metadata": {},
   "outputs": [],
   "source": [
    "# Import the Azimuth wrapper\n",
    "from azimuthpy import annotate_adata_azimuth"
   ]
  },
  {
   "cell_type": "markdown",
   "id": "719c993d-a0fa-490c-a6c7-098d9d3cca7d",
   "metadata": {},
   "source": [
    "# --------------\n",
    "# Step 1. Load a small dataset\n",
    "# --------------"
   ]
  },
  {
   "cell_type": "code",
   "execution_count": null,
   "id": "3ed110c2-a36b-43a5-be11-b263fae455f2",
   "metadata": {},
   "outputs": [],
   "source": [
    "print(\"Loading PBMC3k dataset...\")\n",
    "adata = sc.datasets.pbmc3k()\n",
    "adata"
   ]
  },
  {
   "cell_type": "code",
   "execution_count": null,
   "id": "a64c76b9-2555-4742-bbfe-1d1d3beeaae6",
   "metadata": {},
   "outputs": [],
   "source": [
    "sc.pp.highly_variable_genes(adata, n_top_genes=2000, subset=True, flavor=\"seurat_v3\") # Optional\n",
    "# Store raw counts in adata.layers[\"raw_counts\"]\n",
    "adata.layers[\"raw_counts\"] = adata.X\n",
    "\n",
    "\n",
    "# Just basic preprocessing\n",
    "sc.pp.normalize_total(adata, target_sum=1e4)\n",
    "sc.pp.log1p(adata)\n",
    "print(\"Finished preprocessing.\")"
   ]
  },
  {
   "cell_type": "markdown",
   "id": "fc342199-b711-44fa-907e-43dfbb9b411c",
   "metadata": {},
   "source": [
    "# --------------\n",
    "# Step 2. Load the reference\n",
    "### You can download references from https://azimuth.hubmapconsortium.org/\n",
    "# --------------"
   ]
  },
  {
   "cell_type": "code",
   "execution_count": null,
   "id": "ccce6d19-7c85-4875-ba10-34c53bc1ad69",
   "metadata": {},
   "outputs": [],
   "source": [
    "# e.g., from https://azimuth.hubmapconsortium.org/references/#Human%20-%20Lung%20v2%20%28HLCA%29\n",
    "# -> Zenodo: https://zenodo.org/records/6342228\n",
    "# wget -c https://zenodo.org/api/records/6342228/files-archive\n",
    "# unzip ..."
   ]
  },
  {
   "cell_type": "markdown",
   "id": "0e6dc58c-94cf-4888-a256-06c0a9320c7a",
   "metadata": {},
   "source": [
    "# --------------\n",
    "# Step 3. Map the data using Azimuth\n",
    "# --------------"
   ]
  },
  {
   "cell_type": "code",
   "execution_count": null,
   "id": "19f50849-34c9-4aa0-a152-71000e8d11f6",
   "metadata": {},
   "outputs": [],
   "source": [
    "adata = annotate_adata_azimuth(adata, reference_path=\"path/to/folder/\",\n",
    "                                        use_layer=\"raw_counts\",\n",
    "                                        umap_name=\"ref.umap\")\n",
    "adata"
   ]
  },
  {
   "cell_type": "markdown",
   "id": "80c9cf5c-5ac5-42f7-a364-50418e9253ab",
   "metadata": {},
   "source": [
    "# --------------\n",
    "# Step 4. Explore the results\n",
    "# --------------"
   ]
  },
  {
   "cell_type": "code",
   "execution_count": null,
   "id": "16843fda-e894-4a41-a911-7d93c480b62b",
   "metadata": {},
   "outputs": [],
   "source": [
    "print(\"Predictions added to adata.obsm:\")\n",
    "adata.obsm # ref.umap is the umap from the reference"
   ]
  },
  {
   "cell_type": "code",
   "execution_count": null,
   "id": "bd648cde-4c8f-4791-babb-99b7d3095174",
   "metadata": {},
   "outputs": [],
   "source": [
    "print(\"Predictions added to adata.obs:\")\n",
    "adata.obs"
   ]
  },
  {
   "cell_type": "markdown",
   "id": "38f0f715-c386-47e3-ae99-b043fb84891b",
   "metadata": {},
   "source": [
    "### Typically you will find:\n",
    "### - predicted.celltype.l1\n",
    "### - predicted.celltype.l2\n",
    "### - prediction.score.celltype.l1\n",
    "### - prediction.score.celltype.l2"
   ]
  },
  {
   "cell_type": "markdown",
   "id": "27cabd5e-ef30-4b3e-9306-2397c0563964",
   "metadata": {},
   "source": [
    "# Done!"
   ]
  }
 ],
 "metadata": {
  "kernelspec": {
   "display_name": "nonchev",
   "language": "python",
   "name": "nonchev"
  },
  "language_info": {
   "codemirror_mode": {
    "name": "ipython",
    "version": 3
   },
   "file_extension": ".py",
   "mimetype": "text/x-python",
   "name": "python",
   "nbconvert_exporter": "python",
   "pygments_lexer": "ipython3",
   "version": "3.9.18"
  }
 },
 "nbformat": 4,
 "nbformat_minor": 5
}
